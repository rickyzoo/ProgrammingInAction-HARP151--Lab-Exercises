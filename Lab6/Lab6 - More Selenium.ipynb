{
 "cells": [
  {
   "cell_type": "code",
   "execution_count": 1,
   "id": "8ff1e6ed",
   "metadata": {},
   "outputs": [],
   "source": [
    "from selenium import webdriver\n",
    "from selenium.webdriver.chrome.service import Service\n",
    "from selenium.webdriver.common.keys import Keys\n",
    "from selenium.webdriver.common.by import By\n",
    "from selenium.webdriver.common.action_chains import ActionChains\n",
    "from selenium.webdriver.support.ui import WebDriverWait\n",
    "from selenium.webdriver.support import expected_conditions as EC"
   ]
  },
  {
   "cell_type": "code",
   "execution_count": 80,
   "id": "a9131356",
   "metadata": {},
   "outputs": [],
   "source": [
    "PATH = Service(\"/Users/rickyzou/HARP151/Web_Scraping/chromedriver_mac64/chromedriver.exe\")\n",
    "\n",
    "driver = webdriver.Chrome(service=PATH)"
   ]
  },
  {
   "cell_type": "code",
   "execution_count": 81,
   "id": "acb2d49f",
   "metadata": {},
   "outputs": [],
   "source": [
    "site = \"https://www.binghamton-ny.gov/home\"\n",
    "\n",
    "driver.get(site)"
   ]
  },
  {
   "cell_type": "code",
   "execution_count": 82,
   "id": "84401b33",
   "metadata": {},
   "outputs": [],
   "source": [
    "# Using an action chain: click the \"Government\" tab and click \"Departments\" in the top-left corner using Xpaths\n",
    "\n",
    "gov = driver.find_element(By.XPATH, \"//*[@id='dropdownrootitem3']/a\")\n",
    "dept = driver.find_element(By.XPATH, \"//*[@id='dropdownrootitem3']/div/div/ul[1]/li/a\")\n",
    "\n",
    "actions = ActionChains(driver)\n",
    "actions.move_to_element(gov)\n",
    "actions.click(gov)\n",
    "actions.click(dept)\n",
    "actions.perform()"
   ]
  },
  {
   "cell_type": "code",
   "execution_count": 83,
   "id": "6f4b231f",
   "metadata": {},
   "outputs": [],
   "source": [
    "# Using a try/finally clause to click on \"Personnel/Civil Service\" and then the \"Employment\" link\n",
    "\n",
    "try:\n",
    "    main = WebDriverWait(driver, 10).until(\n",
    "    EC.presence_of_element_located((By.XPATH, \"/html/body/div[2]/div/div[2]/div[2]/nav/ul/li/ul/li[14]/a[1]\"))\n",
    "    )\n",
    "    main.click()\n",
    "\n",
    "    emp = WebDriverWait(driver, 10).until(\n",
    "    EC.presence_of_element_located((By.XPATH, \"/html/body/div[2]/div/div[2]/div[2]/nav/ul/li/ul/li[14]/ul/li/a\"))\n",
    "    )\n",
    "    emp.click()\n",
    "    \n",
    "finally:\n",
    "    pass"
   ]
  },
  {
   "cell_type": "code",
   "execution_count": 85,
   "id": "b41f517c",
   "metadata": {},
   "outputs": [],
   "source": [
    "# Scraping the table of Job Openings\n",
    "\n",
    "table = driver.find_element(By.XPATH, \"//*[@id='ColumnUserControl4']/div[2]/table\")"
   ]
  },
  {
   "cell_type": "code",
   "execution_count": 86,
   "id": "6e432657",
   "metadata": {},
   "outputs": [],
   "source": [
    "# Storing the actual table of values by row\n",
    "\n",
    "rows = table.find_elements(By.TAG_NAME, \"tr\")"
   ]
  },
  {
   "cell_type": "code",
   "execution_count": 89,
   "id": "827f395d",
   "metadata": {},
   "outputs": [
    {
     "name": "stdout",
     "output_type": "stream",
     "text": [
      "Animal Control Officer Full Time Open Until Filled $45,228.00 per Year\n",
      "Assistant Engineer Full Time Open Until Filled $38,127 - $45,062 per Year\n",
      "Building Inspector II Full Time Open Until Filled $42,436 per Year\n",
      "City Engineer Full Time Open Until Filled Not Specified\n",
      "Code Inspector Full Time Open Until Filled $33,632 per Year*\n",
      "Commissioner of Public Works Full Time Open Until Filled Not Specified\n",
      "Crew Leader Full Time 03/10/2023 4:45 PM $21.39 - $25.17 per Hour\n",
      "Crossing Guard Part Time Open Until Filled $43.75 per Day\n",
      "Director of Police Department Community Outreach and Recruitment Full Time Open Until Filled $66,950.00 per Year\n",
      "First Deputy Commissioner of Public Works Full Time Open Until Filled $61,730.00 per Year\n",
      "Laboratory Technician (Sanitary Services) Full Time Open Until Filled $29,406.00 per Year\n",
      "Staff Accountant Full Time Open Until Filled Up to $59,000 per Year\n",
      "Street Maintainer Full Time Open Until Filled $18.36 Per Hour\n",
      "Tree Trimmer Full Time 03/10/2023 4:45 PM $20.95 - $24.65 per Hour\n",
      "Urban Forester Full Time 03/10/2023 4:45 PM $23.09 - $27.16 per Hour\n",
      "Water & Sewer Systems Maintainer Full Time Open Until Filled $20.71 per Hour\n",
      "Water Meter Repairer Full Time Open Until Filled $19.11 per Hour\n"
     ]
    }
   ],
   "source": [
    "# Iterating through each row and indexing each desired item\n",
    "\n",
    "for row in rows:\n",
    "    cells = row.find_elements(By.TAG_NAME, \"td\")\n",
    "    if cells:\n",
    "        Job = cells[0].text\n",
    "        Type = cells[1].text\n",
    "        Application_Deadline = cells[2].text\n",
    "        Salary = cells[3].text\n",
    "#         print(Job, Type, Application_Deadline, Salary)"
   ]
  },
  {
   "cell_type": "code",
   "execution_count": 91,
   "id": "107615e1",
   "metadata": {},
   "outputs": [],
   "source": [
    "import csv\n",
    "import pandas as pd"
   ]
  },
  {
   "cell_type": "code",
   "execution_count": 92,
   "id": "368adbb6",
   "metadata": {},
   "outputs": [],
   "source": [
    "# Complete code storing it in a csv\n",
    "\n",
    "csv_file = open(\"bing_job_openings.csv\", \"w\", newline=\"\", encoding=\"utf-8\")\n",
    "csv_writer = csv.writer(csv_file)\n",
    "csv_writer.writerow([\"Job\", \"Type\", \"Application_Deadline\", \"Salary\"])\n",
    "\n",
    "for row in rows:\n",
    "    cells = row.find_elements(By.TAG_NAME, \"td\")\n",
    "    if cells:\n",
    "        Job = cells[0].text\n",
    "        Type = cells[1].text\n",
    "        Application_Deadline = cells[2].text\n",
    "        Salary = cells[3].text\n",
    "    \n",
    "    csv_writer.writerow([Job, Type, Application_Deadline, Salary])\n",
    "    \n",
    "csv_file.close()"
   ]
  },
  {
   "cell_type": "code",
   "execution_count": 93,
   "id": "9498cfa6",
   "metadata": {},
   "outputs": [
    {
     "data": {
      "text/html": [
       "<div>\n",
       "<style scoped>\n",
       "    .dataframe tbody tr th:only-of-type {\n",
       "        vertical-align: middle;\n",
       "    }\n",
       "\n",
       "    .dataframe tbody tr th {\n",
       "        vertical-align: top;\n",
       "    }\n",
       "\n",
       "    .dataframe thead th {\n",
       "        text-align: right;\n",
       "    }\n",
       "</style>\n",
       "<table border=\"1\" class=\"dataframe\">\n",
       "  <thead>\n",
       "    <tr style=\"text-align: right;\">\n",
       "      <th></th>\n",
       "      <th>Job</th>\n",
       "      <th>Type</th>\n",
       "      <th>Application_Deadline</th>\n",
       "      <th>Salary</th>\n",
       "    </tr>\n",
       "  </thead>\n",
       "  <tbody>\n",
       "    <tr>\n",
       "      <th>0</th>\n",
       "      <td>Water Meter Repairer</td>\n",
       "      <td>Full Time</td>\n",
       "      <td>Open Until Filled</td>\n",
       "      <td>$19.11 per Hour</td>\n",
       "    </tr>\n",
       "    <tr>\n",
       "      <th>1</th>\n",
       "      <td>Animal Control Officer</td>\n",
       "      <td>Full Time</td>\n",
       "      <td>Open Until Filled</td>\n",
       "      <td>$45,228.00 per Year</td>\n",
       "    </tr>\n",
       "    <tr>\n",
       "      <th>2</th>\n",
       "      <td>Assistant Engineer</td>\n",
       "      <td>Full Time</td>\n",
       "      <td>Open Until Filled</td>\n",
       "      <td>$38,127 - $45,062 per Year</td>\n",
       "    </tr>\n",
       "    <tr>\n",
       "      <th>3</th>\n",
       "      <td>Building Inspector II</td>\n",
       "      <td>Full Time</td>\n",
       "      <td>Open Until Filled</td>\n",
       "      <td>$42,436 per Year</td>\n",
       "    </tr>\n",
       "    <tr>\n",
       "      <th>4</th>\n",
       "      <td>City Engineer</td>\n",
       "      <td>Full Time</td>\n",
       "      <td>Open Until Filled</td>\n",
       "      <td>Not Specified</td>\n",
       "    </tr>\n",
       "  </tbody>\n",
       "</table>\n",
       "</div>"
      ],
      "text/plain": [
       "                      Job       Type Application_Deadline  \\\n",
       "0    Water Meter Repairer  Full Time    Open Until Filled   \n",
       "1  Animal Control Officer  Full Time    Open Until Filled   \n",
       "2      Assistant Engineer  Full Time    Open Until Filled   \n",
       "3   Building Inspector II  Full Time    Open Until Filled   \n",
       "4           City Engineer  Full Time    Open Until Filled   \n",
       "\n",
       "                       Salary  \n",
       "0             $19.11 per Hour  \n",
       "1         $45,228.00 per Year  \n",
       "2  $38,127 - $45,062 per Year  \n",
       "3            $42,436 per Year  \n",
       "4               Not Specified  "
      ]
     },
     "execution_count": 93,
     "metadata": {},
     "output_type": "execute_result"
    }
   ],
   "source": [
    "data = pd.read_csv(\"bing_job_openings.csv\")\n",
    "data.head(5)"
   ]
  },
  {
   "cell_type": "code",
   "execution_count": null,
   "id": "f83d46fd",
   "metadata": {},
   "outputs": [],
   "source": []
  }
 ],
 "metadata": {
  "kernelspec": {
   "display_name": "Python 3 (ipykernel)",
   "language": "python",
   "name": "python3"
  },
  "language_info": {
   "codemirror_mode": {
    "name": "ipython",
    "version": 3
   },
   "file_extension": ".py",
   "mimetype": "text/x-python",
   "name": "python",
   "nbconvert_exporter": "python",
   "pygments_lexer": "ipython3",
   "version": "3.9.13"
  }
 },
 "nbformat": 4,
 "nbformat_minor": 5
}
