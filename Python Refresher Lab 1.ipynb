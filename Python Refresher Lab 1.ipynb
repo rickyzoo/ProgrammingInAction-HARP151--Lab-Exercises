{
 "cells": [
  {
   "cell_type": "markdown",
   "id": "99cbb84e",
   "metadata": {},
   "source": [
    "### Question 1\n",
    "See the list below. Please write a program that will tell you what the longest word is in the list. Package your program inside of a function."
   ]
  },
  {
   "cell_type": "code",
   "execution_count": 1,
   "id": "afca3b72",
   "metadata": {},
   "outputs": [],
   "source": [
    "mylist = ['apple', 'chestnut', 'gargoyle', 'pandas', 'sheep', 'raptor']"
   ]
  },
  {
   "cell_type": "code",
   "execution_count": 2,
   "id": "28736d32",
   "metadata": {},
   "outputs": [],
   "source": [
    "# Creating the function\n",
    "\n",
    "def longest_word(words):\n",
    "    res = ''\n",
    "    for word in words:\n",
    "        if len(word) > len(res):\n",
    "            res = word\n",
    "            \n",
    "    return res"
   ]
  },
  {
   "cell_type": "code",
   "execution_count": 3,
   "id": "1684d535",
   "metadata": {},
   "outputs": [
    {
     "data": {
      "text/plain": [
       "'chestnut'"
      ]
     },
     "execution_count": 3,
     "metadata": {},
     "output_type": "execute_result"
    }
   ],
   "source": [
    "longest_word(mylist)"
   ]
  },
  {
   "cell_type": "markdown",
   "id": "73ec6740",
   "metadata": {},
   "source": [
    "### Question 2\n",
    "Now that you have built the program above, in a new cell, edit your program: import a .txt file of a list of words and have your program randomly choose 7 words from the file to add to a list, and then have the program determine the longest word as you did above."
   ]
  },
  {
   "cell_type": "code",
   "execution_count": 4,
   "id": "19b8220a",
   "metadata": {},
   "outputs": [],
   "source": [
    "# Importing the 'sowpods.txt' file and generating random words\n",
    "\n",
    "import random\n",
    "sowpods = 'sowpods.txt'\n",
    "\n",
    "def word_generator():\n",
    "    filename = sowpods\n",
    "    f = open(filename, 'r', encoding='utf8')\n",
    "    words = f.readlines()\n",
    "    f.close()\n",
    "    \n",
    "    return random.choice(words).strip()"
   ]
  },
  {
   "cell_type": "code",
   "execution_count": 5,
   "id": "f71d8053",
   "metadata": {},
   "outputs": [],
   "source": [
    "# Modified version of previous function\n",
    "\n",
    "def longest_word2():\n",
    "    res = ''\n",
    "    words = [word_generator().lower() for i in range(7)]  # Creating a list of 7 randomly generated words\n",
    "    \n",
    "    for word in words:\n",
    "        if len(word) > len(res):\n",
    "            res = word\n",
    "    \n",
    "    print(f'Your list of 7 random words are: {words}')       \n",
    "    return res"
   ]
  },
  {
   "cell_type": "code",
   "execution_count": 6,
   "id": "0ffde066",
   "metadata": {},
   "outputs": [
    {
     "name": "stdout",
     "output_type": "stream",
     "text": [
      "Your list of 7 random words are: ['supersystem', 'lusters', 'teletrons', 'joshingly', 'peggies', 'chevied', 'magnetopause']\n"
     ]
    },
    {
     "data": {
      "text/plain": [
       "'magnetopause'"
      ]
     },
     "execution_count": 6,
     "metadata": {},
     "output_type": "execute_result"
    }
   ],
   "source": [
    "longest_word2()"
   ]
  },
  {
   "cell_type": "markdown",
   "id": "f5f568d7",
   "metadata": {},
   "source": [
    "### Question 3\n",
    "Pretend that you're going to be leading a review session on dictionaries. Build a program that uses dictionaries and incorporates at least 4 built-in methods"
   ]
  },
  {
   "cell_type": "code",
   "execution_count": 10,
   "id": "8a1c5531",
   "metadata": {},
   "outputs": [
    {
     "name": "stdout",
     "output_type": "stream",
     "text": [
      "{'One': 1, 'Two': 2, 'Three': 3, 'Four': 4, 'Five': 5}\n"
     ]
    }
   ],
   "source": [
    "# Exercise 1: Convert two lists into a dictionary without using the 'zip' function\n",
    "\n",
    "keys = ['One', 'Two', 'Three', 'Four', 'Five']\n",
    "values = [1,2,3,4,5]\n",
    "\n",
    "# Answer:\n",
    "\n",
    "d = dict()\n",
    "for i in range(len(keys)):\n",
    "    d.update({keys[i]:values[i]})  # using the 'update' method\n",
    "    \n",
    "print(d)"
   ]
  },
  {
   "cell_type": "code",
   "execution_count": 11,
   "id": "92ebbb46",
   "metadata": {},
   "outputs": [
    {
     "name": "stdout",
     "output_type": "stream",
     "text": [
      "Three\n"
     ]
    }
   ],
   "source": [
    "# Exercise 2: From the dictionary you created above, return the longest key (or word)\n",
    "\n",
    "# Answer:\n",
    "\n",
    "keys = [k for k in d.keys()]  # using the 'keys' method\n",
    "res = ''\n",
    "for word in keys:\n",
    "    if len(word) > len(res):\n",
    "        res = word\n",
    "        \n",
    "print(res)"
   ]
  },
  {
   "cell_type": "code",
   "execution_count": 12,
   "id": "401ccfb5",
   "metadata": {},
   "outputs": [
    {
     "name": "stdout",
     "output_type": "stream",
     "text": [
      "['One', 'Two', 'Three', 'Four', 'Five']\n",
      "[1, 2, 3, 4, 5]\n"
     ]
    }
   ],
   "source": [
    "# Exercise 3: Using the dictionary created above, make 2 new lists: one containing the keys and the other containing the values\n",
    "\n",
    "# Answer:\n",
    "\n",
    "keys = [k for k, v in d.items()]  # using the 'items' method\n",
    "values = [v for k, v in d.items()]\n",
    "\n",
    "print(keys)\n",
    "print(values)"
   ]
  },
  {
   "cell_type": "code",
   "execution_count": 24,
   "id": "3f788d0a",
   "metadata": {},
   "outputs": [
    {
     "name": "stdout",
     "output_type": "stream",
     "text": [
      "Cake\n"
     ]
    }
   ],
   "source": [
    "# Exercise 4: Remove your least favorite dessert and store it in a variable. Print it\n",
    "\n",
    "mydict = {1:'Gelato', 2:'Sherbet', 3:'Cookies', 4:'Milkshake', 5:'Pastries', 6:'Chocolate', 7:'Cake', 8:'Biscotti'}\n",
    "\n",
    "# Answer:\n",
    "\n",
    "least_fav = mydict.pop(7)\n",
    "print(least_fav)"
   ]
  },
  {
   "cell_type": "markdown",
   "id": "a239e88e",
   "metadata": {},
   "source": [
    "### Question 4\n",
    "Using OOP, I want you to build one of the following things. As part of the excerise, please write out your brainstorming process in a comment or markdown cell:\n",
    "\n",
    "- A system to manage a student's school record (would need a way to gather/store personal information, record grades, record GPA, etc.)\n",
    "- A class that allows you to create your own flashcards & then allows you to review them (this would work best with language cards - like one word is in Spanish, one in English)\n",
    "- A class (or series of classes) to correspond with a gameplay (for example, a fighter class, a bard class, a wizard class)"
   ]
  },
  {
   "cell_type": "markdown",
   "id": "dd46ad76",
   "metadata": {},
   "source": [
    "#### Idea + Brainstorming Process\n",
    "I chose to create a class that allows the user to create their own flashcards. Each instance of this class is one unique flashcard with one item and its corresponding translation in a language of the user's choice. Using a dictionary, you can store the item and its translation in a key-value pair to mimic a real flashcard. The user can then test their knowledge by guessing the translation of the specified key."
   ]
  },
  {
   "cell_type": "code",
   "execution_count": 78,
   "id": "ee981513",
   "metadata": {},
   "outputs": [],
   "source": [
    "class Flashcard:\n",
    "    \n",
    "    def __init__(self):\n",
    "        self.translations = dict()\n",
    "        self.key = input('Please input a word/item: ')\n",
    "        self.value = input('Please provide its translation of your choice: ')\n",
    "        \n",
    "    def create(self):\n",
    "        self.translations.update({self.key:self.value})\n",
    "        \n",
    "    def test(self):            \n",
    "        cont = 'yes'\n",
    "        while cont == 'yes':\n",
    "            guess = input(f'What is the translation of \\'{self.key}\\'?: ')\n",
    "            if self.translations[self.key] == guess:\n",
    "                print('Nice job!')\n",
    "                break\n",
    "            else:\n",
    "                print('This is an incorrect translation')\n",
    "                cont = input(f'Would you like to try again? (type Yes/No): ' ).lower()\n",
    "            \n",
    "    def show(self):\n",
    "        print(f'The translation of \\'{self.key}\\' is \\'{self.translations[self.key]}\\'')"
   ]
  },
  {
   "cell_type": "code",
   "execution_count": 79,
   "id": "ef1b1ea7",
   "metadata": {},
   "outputs": [
    {
     "name": "stdout",
     "output_type": "stream",
     "text": [
      "Please input a word/item: one\n",
      "Please provide its translation of your choice: uno\n",
      "Please input a word/item: two\n",
      "Please provide its translation of your choice: dos\n",
      "Please input a word/item: three\n",
      "Please provide its translation of your choice: tres\n"
     ]
    }
   ],
   "source": [
    "first = Flashcard()\n",
    "second = Flashcard()\n",
    "third = Flashcard()"
   ]
  },
  {
   "cell_type": "code",
   "execution_count": 80,
   "id": "e84c2bae",
   "metadata": {},
   "outputs": [],
   "source": [
    "first.create()\n",
    "second.create()\n",
    "third.create()"
   ]
  },
  {
   "cell_type": "code",
   "execution_count": 81,
   "id": "58df12a3",
   "metadata": {},
   "outputs": [
    {
     "name": "stdout",
     "output_type": "stream",
     "text": [
      "What is the translation of 'one'?: dos\n",
      "This is an incorrect translation\n",
      "Would you like to try again? (type Yes/No): no\n"
     ]
    }
   ],
   "source": [
    "first.test()"
   ]
  },
  {
   "cell_type": "code",
   "execution_count": 82,
   "id": "92ff896a",
   "metadata": {},
   "outputs": [
    {
     "name": "stdout",
     "output_type": "stream",
     "text": [
      "What is the translation of 'two'?: dos\n",
      "Nice job!\n"
     ]
    }
   ],
   "source": [
    "second.test()"
   ]
  },
  {
   "cell_type": "code",
   "execution_count": 83,
   "id": "616d83c7",
   "metadata": {},
   "outputs": [
    {
     "name": "stdout",
     "output_type": "stream",
     "text": [
      "What is the translation of 'three'?: tres\n",
      "Nice job!\n"
     ]
    }
   ],
   "source": [
    "third.test()"
   ]
  },
  {
   "cell_type": "code",
   "execution_count": 84,
   "id": "585bfbe2",
   "metadata": {},
   "outputs": [
    {
     "name": "stdout",
     "output_type": "stream",
     "text": [
      "The translation of 'one' is 'uno'\n"
     ]
    }
   ],
   "source": [
    "first.show()"
   ]
  },
  {
   "cell_type": "markdown",
   "id": "dddbe1e3",
   "metadata": {},
   "source": [
    "### Question 5\n",
    "Finalize your Hangman program and submit it. Include any necessary comments and explain what you had \"refreshed\" by building it in class. If appropriate, use functions or OOP to package the pieces of your code."
   ]
  },
  {
   "cell_type": "markdown",
   "id": "c09c7869",
   "metadata": {},
   "source": [
    "#### What I had Refreshed by Building This Game\n",
    "This foundational model of the Hangman game incorporates many fundamental data structures and operators. I reinforced my understanding of sets, conditionals, loops, iteration, and logical operators."
   ]
  },
  {
   "cell_type": "code",
   "execution_count": null,
   "id": "bc5d392c",
   "metadata": {},
   "outputs": [],
   "source": [
    "## Generating a random word from a list of words in a .txt file\n",
    "\n",
    "import random\n",
    "sowpods = 'sowpods.txt'\n",
    "\n",
    "def word_generator():\n",
    "    filename = sowpods\n",
    "    f = open(filename, 'r', encoding='utf8')\n",
    "    words = f.readlines()\n",
    "    f.close()\n",
    "    \n",
    "    return random.choice(words).strip()\n",
    "\n",
    "## Creating the game\n",
    "\n",
    "def hangman():\n",
    "    word = word_generator().lower()\n",
    "    lives = len(word)\n",
    "    guessed = set()\n",
    "    curr = ['_'] * len(word)\n",
    "    \n",
    "    print(f'Your word has {len(word)} letters. Guess wisely and Good luck!')\n",
    "    \n",
    "    while lives and (set(word) != set(curr)):\n",
    "        guess = input('Guess a letter: ').lower()\n",
    "        \n",
    "        if guess in word:\n",
    "            guessed.add(guess)\n",
    "            for i in range(len(word)):\n",
    "                if word[i] == guess:\n",
    "                    curr[i] = guess\n",
    "            print(curr)\n",
    "            \n",
    "        elif guess in guessed:\n",
    "            print('You have already guessed this letter!')\n",
    "            \n",
    "        else:\n",
    "            guessed.add(guess)\n",
    "            lives -= 1\n",
    "            print(f'You have {lives} lives left!')\n",
    "            print(curr)\n",
    "            \n",
    "        print('You have guessed these letters: ', guessed)\n",
    "        \n",
    "    if not lives:\n",
    "        print('Game over')\n",
    "        print(f'Your word was: {word}')\n",
    "    elif set(curr) == set(word):\n",
    "        print('Great job!')\n",
    "        \n",
    "    return"
   ]
  }
 ],
 "metadata": {
  "kernelspec": {
   "display_name": "Python 3 (ipykernel)",
   "language": "python",
   "name": "python3"
  },
  "language_info": {
   "codemirror_mode": {
    "name": "ipython",
    "version": 3
   },
   "file_extension": ".py",
   "mimetype": "text/x-python",
   "name": "python",
   "nbconvert_exporter": "python",
   "pygments_lexer": "ipython3",
   "version": "3.9.13"
  }
 },
 "nbformat": 4,
 "nbformat_minor": 5
}
