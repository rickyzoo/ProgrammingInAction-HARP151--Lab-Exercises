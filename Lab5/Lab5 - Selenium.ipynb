{
 "cells": [
  {
   "cell_type": "markdown",
   "id": "8095450f",
   "metadata": {},
   "source": [
    "## Part 1: Continuation of Selenium Tutorial"
   ]
  },
  {
   "cell_type": "code",
   "execution_count": 1,
   "id": "7794849b",
   "metadata": {},
   "outputs": [],
   "source": [
    "import csv\n",
    "import pandas as pd\n",
    "\n",
    "from selenium import webdriver\n",
    "from selenium.webdriver.chrome.service import Service\n",
    "from selenium.webdriver.common.keys import Keys\n",
    "from selenium.webdriver.common.by import By\n",
    "from selenium.webdriver.support.ui import WebDriverWait\n",
    "from selenium.webdriver.support import expected_conditions as EC"
   ]
  },
  {
   "cell_type": "code",
   "execution_count": 2,
   "id": "fd2846f4",
   "metadata": {},
   "outputs": [],
   "source": [
    "# Code from previous tutorials\n",
    "\n",
    "PATH = Service(\"/Users/rickyzou/HARP151/Web_Scraping/chromedriver_mac64/chromedriver.exe\")\n",
    "driver = webdriver.Chrome(service=PATH)\n",
    "\n",
    "site = \"https://techwithtim.net\"\n",
    "driver.get(site)\n",
    "\n",
    "search = driver.find_element(By.NAME, \"s\")\n",
    "search.clear() # clear any text in the search\n",
    "search.send_keys(\"test\")\n",
    "search.send_keys(Keys.RETURN)\n",
    "\n",
    "main = driver.find_element(By.ID, \"main\")\n",
    "\n",
    "# try:\n",
    "#     main = WebDriverWait(driver, 10).until(\n",
    "#     EC.presence_of_element_located((By.ID, \"main\"))\n",
    "#     )\n",
    "#     print(main.text)\n",
    "    \n",
    "#     articles = main.find_elements(By.TAG_NAME, \"article\")\n",
    "    \n",
    "#     for i in articles:\n",
    "#         header = i.find_element(By.CLASS_NAME, \"entry-summary\")\n",
    "#         print(header.text)\n",
    "        \n",
    "# finally:\n",
    "#         driver.quit()"
   ]
  },
  {
   "cell_type": "code",
   "execution_count": 3,
   "id": "5e745d93",
   "metadata": {},
   "outputs": [],
   "source": [
    "# Code from Tutorial 3\n",
    "\n",
    "# Goal: Page navigation\n",
    "## How can we get to certain pages of a website by clicking on links and buttons\n",
    "## How do we go back to the previous page\n",
    "\n",
    "link = driver.find_element(By.LINK_TEXT, \"Python Programming\") # Access the element from the specific text (name of page) from the website\n",
    "link.click() # running this will actually bring us to the specified portion of the website"
   ]
  },
  {
   "cell_type": "code",
   "execution_count": 4,
   "id": "aa01b09c",
   "metadata": {},
   "outputs": [],
   "source": [
    "try:\n",
    "    # Wait up to 10 seconds for the driver to find the element on the page that has the specified ID\n",
    "    element = WebDriverWait(driver, 10).until(\n",
    "        EC.presence_of_elememt_located((By.LINK_TEXT, \"Beginner Python Tutorials\"))\n",
    "    )\n",
    "#     element.clear() # will clear any text in the input field to ensure we are getting the content we specify\n",
    "    element.click() # goes to the next available page\n",
    "    \n",
    "    # After waiting, it goes to the page of the specified ID\n",
    "    element = WebDriverWait(driver, 10).until(\n",
    "        EC.presence_of_elememt_located((By.ID, \"sow-button-19310003\"))\n",
    "    )\n",
    "    element.click()\n",
    "    \n",
    "#     driver.back() # going back to the previous page\n",
    "#     driver.back()\n",
    "#     driver.back()\n",
    "#     driver.forward() # going to the page you were at before going back\n",
    "#     driver.forward()\n",
    "\n",
    "except:\n",
    "    driver.quit()"
   ]
  },
  {
   "cell_type": "markdown",
   "id": "8f0e66d9",
   "metadata": {},
   "source": [
    "## Part 2:\n",
    "Scraping this [website](\"https://hoopshype.com/salaries/players/\")"
   ]
  },
  {
   "cell_type": "code",
   "execution_count": 17,
   "id": "82f28219",
   "metadata": {},
   "outputs": [],
   "source": [
    "PATH = Service(\"/Users/rickyzou/HARP151/Web_Scraping/chromedriver_mac64/chromedriver.exe\")\n",
    "driver = webdriver.Chrome(service=PATH)\n",
    "\n",
    "site = \"https://hoopshype.com/\"\n",
    "driver.get(site)"
   ]
  },
  {
   "cell_type": "code",
   "execution_count": 24,
   "id": "235df9c5",
   "metadata": {},
   "outputs": [],
   "source": [
    "# Navigating to the \"SALARIES\" subpage\n",
    "\n",
    "salaries = driver.find_element(By.LINK_TEXT, \"SALARIES\")\n",
    "salaries.click()"
   ]
  },
  {
   "cell_type": "code",
   "execution_count": 25,
   "id": "6f0b2d23",
   "metadata": {},
   "outputs": [],
   "source": [
    "# Navigating to the \"PLAYERS SALARIES\" subsection\n",
    "\n",
    "player_salaries = driver.find_element(By.LINK_TEXT, \"PLAYER SALARIES\")\n",
    "player_salaries.click()"
   ]
  },
  {
   "cell_type": "code",
   "execution_count": 29,
   "id": "8dc8dbee",
   "metadata": {},
   "outputs": [],
   "source": [
    "# Storing the subsection containing the desired table using its unique \"class\" name\n",
    "\n",
    "table = driver.find_element(By.CLASS_NAME, \"hh-salaries-ranking\")"
   ]
  },
  {
   "cell_type": "code",
   "execution_count": 31,
   "id": "03937e6d",
   "metadata": {},
   "outputs": [],
   "source": [
    "# Storing the actual table of values by row\n",
    "\n",
    "rows = table.find_elements(By.TAG_NAME, \"tr\")"
   ]
  },
  {
   "cell_type": "code",
   "execution_count": 39,
   "id": "54fa163b",
   "metadata": {},
   "outputs": [],
   "source": [
    "# Iterating through each row and indexing each desired item\n",
    "\n",
    "for row in rows:\n",
    "    cells = row.find_elements(By.TAG_NAME, \"td\")\n",
    "    if cells:\n",
    "        player_name = cells[1].text\n",
    "        player_salary_1 = cells[2].text\n",
    "        player_salary_2 = cells[3].text\n",
    "        player_salary_3 = cells[4].text\n",
    "        player_salary_4 = cells[5].text\n",
    "#         print(player_name, player_salary_1, player_salary_2, player_salary_3, player_salary_4)"
   ]
  },
  {
   "cell_type": "code",
   "execution_count": 37,
   "id": "d7bd0426",
   "metadata": {},
   "outputs": [],
   "source": [
    "# Complete code storing it in a csv\n",
    "\n",
    "csv_file = open(\"nbaplayers_salaries.csv\", \"w\", newline=\"\", encoding=\"utf-8\")\n",
    "csv_writer = csv.writer(csv_file)\n",
    "csv_writer.writerow([\"Player\", \"2022/23\", \"2023/24\", \"2024/25\", \"2025/26\"])\n",
    "\n",
    "for row in rows:\n",
    "    cells = row.find_elements(By.TAG_NAME, \"td\")\n",
    "    if cells:\n",
    "        player_name = cells[1].text\n",
    "        player_salary_1 = cells[2].text\n",
    "        player_salary_2 = cells[3].text\n",
    "        player_salary_3 = cells[4].text\n",
    "        player_salary_4 = cells[5].text\n",
    "    \n",
    "    csv_writer.writerow([player_name, player_salary_1, player_salary_2, player_salary_3, player_salary_4])\n",
    "    \n",
    "csv_file.close()"
   ]
  },
  {
   "cell_type": "code",
   "execution_count": 38,
   "id": "8f613d68",
   "metadata": {},
   "outputs": [
    {
     "data": {
      "text/html": [
       "<div>\n",
       "<style scoped>\n",
       "    .dataframe tbody tr th:only-of-type {\n",
       "        vertical-align: middle;\n",
       "    }\n",
       "\n",
       "    .dataframe tbody tr th {\n",
       "        vertical-align: top;\n",
       "    }\n",
       "\n",
       "    .dataframe thead th {\n",
       "        text-align: right;\n",
       "    }\n",
       "</style>\n",
       "<table border=\"1\" class=\"dataframe\">\n",
       "  <thead>\n",
       "    <tr style=\"text-align: right;\">\n",
       "      <th></th>\n",
       "      <th>Player</th>\n",
       "      <th>2022/23</th>\n",
       "      <th>2023/24</th>\n",
       "      <th>2024/25</th>\n",
       "      <th>2025/26</th>\n",
       "    </tr>\n",
       "  </thead>\n",
       "  <tbody>\n",
       "    <tr>\n",
       "      <th>0</th>\n",
       "      <td>PLAYER</td>\n",
       "      <td>2022/23</td>\n",
       "      <td>2023/24</td>\n",
       "      <td>2024/25</td>\n",
       "      <td>2025/26</td>\n",
       "    </tr>\n",
       "    <tr>\n",
       "      <th>1</th>\n",
       "      <td>Stephen Curry</td>\n",
       "      <td>$48,070,014</td>\n",
       "      <td>$51,915,615</td>\n",
       "      <td>$55,761,217</td>\n",
       "      <td>$59,606,817</td>\n",
       "    </tr>\n",
       "    <tr>\n",
       "      <th>2</th>\n",
       "      <td>John Wall</td>\n",
       "      <td>$47,345,760</td>\n",
       "      <td>$0</td>\n",
       "      <td>$0</td>\n",
       "      <td>$0</td>\n",
       "    </tr>\n",
       "  </tbody>\n",
       "</table>\n",
       "</div>"
      ],
      "text/plain": [
       "          Player      2022/23      2023/24      2024/25      2025/26\n",
       "0         PLAYER      2022/23      2023/24      2024/25      2025/26\n",
       "1  Stephen Curry  $48,070,014  $51,915,615  $55,761,217  $59,606,817\n",
       "2      John Wall  $47,345,760           $0           $0           $0"
      ]
     },
     "execution_count": 38,
     "metadata": {},
     "output_type": "execute_result"
    }
   ],
   "source": [
    "# Checking to see if it worked\n",
    "\n",
    "data = pd.read_csv(\"nbaplayers_salaries.csv\")\n",
    "data.head(3)"
   ]
  },
  {
   "cell_type": "code",
   "execution_count": null,
   "id": "fd2acb6a",
   "metadata": {},
   "outputs": [],
   "source": []
  }
 ],
 "metadata": {
  "kernelspec": {
   "display_name": "Python 3 (ipykernel)",
   "language": "python",
   "name": "python3"
  },
  "language_info": {
   "codemirror_mode": {
    "name": "ipython",
    "version": 3
   },
   "file_extension": ".py",
   "mimetype": "text/x-python",
   "name": "python",
   "nbconvert_exporter": "python",
   "pygments_lexer": "ipython3",
   "version": "3.9.13"
  }
 },
 "nbformat": 4,
 "nbformat_minor": 5
}
