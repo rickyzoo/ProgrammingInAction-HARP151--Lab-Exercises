{
 "cells": [
  {
   "cell_type": "code",
   "execution_count": 51,
   "id": "249f3968",
   "metadata": {},
   "outputs": [],
   "source": [
    "import requests\n",
    "import json\n",
    "import random\n",
    "from tkinter import *"
   ]
  },
  {
   "cell_type": "markdown",
   "id": "5829d27d",
   "metadata": {},
   "source": [
    "### GUI 1"
   ]
  },
  {
   "cell_type": "code",
   "execution_count": 94,
   "id": "f6c82dd3",
   "metadata": {},
   "outputs": [],
   "source": [
    "root = Tk()\n",
    "root.geometry(\"500x500\")\n",
    " \n",
    "# Get list of authors\n",
    "def getAuthors():\n",
    "    allauthors = []\n",
    "    author = requests.get(\"https://api.quotable.io/authors\").json()\n",
    "    for i in range(len((author)['results'])):\n",
    "        allauthors.append(author['results'][i]['name'])\n",
    "        \n",
    "    return allauthors\n",
    "\n",
    "# Change the label text to show quote\n",
    "def show():\n",
    "    text_widget.delete('1.0', 'end')\n",
    "    \n",
    "    quotes = []\n",
    "    author = str(clicked.get())\n",
    "    quotefromauthor = requests.get(f\"https://api.quotable.io/quotes?author={author}\").json()\n",
    "\n",
    "    if quotefromauthor['count'] == 0:\n",
    "        out = \"No available quote from this author\"\n",
    "    else:\n",
    "        for i in range(len(quotefromauthor['results'])):\n",
    "            quotes.append(quotefromauthor['results'][i]['content'])\n",
    "        out = random.choice(quotes)\n",
    "        \n",
    "    text_widget.insert(INSERT, out)\n",
    "    text_widget.pack()\n",
    "\n",
    "# Dropdown menu values\n",
    "options = getAuthors()\n",
    "  \n",
    "# datatype of menu text\n",
    "clicked = StringVar()\n",
    "  \n",
    "# initial menu text\n",
    "clicked.set(\"Select an Author\")\n",
    "  \n",
    "# Create Dropdown menu\n",
    "drop = OptionMenu(root, clicked, *options)\n",
    "drop.pack()\n",
    "  \n",
    "# Create button, it will change label text\n",
    "button = Button(root, text=\"Click to get a quote\", command=show)\n",
    "button.pack()\n",
    "\n",
    "# Text widget for quote\n",
    "text_widget = Text(root, bg=\"lightgrey\")\n",
    "text_widget.pack()\n",
    "  \n",
    "# Execute tkinter\n",
    "root.mainloop()"
   ]
  },
  {
   "cell_type": "code",
   "execution_count": null,
   "id": "e6626249",
   "metadata": {},
   "outputs": [],
   "source": []
  },
  {
   "cell_type": "code",
   "execution_count": null,
   "id": "e77dca73",
   "metadata": {},
   "outputs": [],
   "source": []
  },
  {
   "cell_type": "code",
   "execution_count": null,
   "id": "0a8deb0b",
   "metadata": {},
   "outputs": [],
   "source": []
  },
  {
   "cell_type": "markdown",
   "id": "91f07580",
   "metadata": {},
   "source": [
    "### GUI 2"
   ]
  },
  {
   "cell_type": "code",
   "execution_count": 61,
   "id": "d6391f6a",
   "metadata": {},
   "outputs": [],
   "source": [
    "root = Tk()\n",
    "root.title(\"7 Day Binghamton Weather Forecast\")\n",
    "\n",
    "# Create a frame to hold the labels for each day's forecast\n",
    "forecast_frame = Frame(root, bg=\"lightgrey\")\n",
    "forecast_frame.pack(padx=10, pady=10)\n",
    "\n",
    "# API request\n",
    "url = \"https://api.weather.gov/gridpoints/BGM/66,57/forecast\"\n",
    "response = requests.get(url)\n",
    "forecast_data = response.json()[\"properties\"][\"periods\"]\n",
    "\n",
    "# Using a Canvas widget to hold the weather icons\n",
    "canvas_width = 600\n",
    "canvas_height = 200\n",
    "icon_canvas = Canvas(root, width=canvas_width, height=canvas_height, bg=\"lightgrey\", highlightthickness=0)\n",
    "icon_canvas.pack(pady=10)\n",
    "\n",
    "# Loop through the forecast data and create a label for each day's forecast\n",
    "for i, forecast in enumerate(forecast_data):\n",
    "    day_frame = Frame(forecast_frame, bg=\"lightgrey\")\n",
    "    day_frame.grid(row=0, column=i, padx=10)\n",
    "\n",
    "    # Create a label for the day and the temperature range\n",
    "    day_label = Label(day_frame, text=forecast[\"name\"], font=(\"Times New Roman\", 16), bg=\"lightgrey\")\n",
    "    day_label.pack()\n",
    "\n",
    "    temp_label = Label(day_frame, text=f\"{forecast['temperature']}°F\", font=(\"Times New Roman\", 14), bg=\"lightgrey\")\n",
    "    temp_label.pack()\n",
    "\n",
    "    # Draw the weather icon on the canvas\n",
    "    icon_url = forecast[\"icon\"]\n",
    "    icon_response = requests.get(icon_url)\n",
    "    icon_data = icon_response.content\n",
    "    with open(\"temp_icon.gif\", \"wb\") as f:\n",
    "        f.write(icon_data)\n",
    "    temp_icon = PhotoImage(file=\"temp_icon.gif\")\n",
    "    icon_canvas.create_image((i+0.5)*canvas_width/8, canvas_height/2, image=temp_icon)\n",
    "\n",
    "root.mainloop()"
   ]
  },
  {
   "cell_type": "code",
   "execution_count": null,
   "id": "0a4b79ac",
   "metadata": {},
   "outputs": [],
   "source": []
  },
  {
   "cell_type": "code",
   "execution_count": null,
   "id": "7432d21b",
   "metadata": {},
   "outputs": [],
   "source": []
  }
 ],
 "metadata": {
  "kernelspec": {
   "display_name": "Python 3 (ipykernel)",
   "language": "python",
   "name": "python3"
  },
  "language_info": {
   "codemirror_mode": {
    "name": "ipython",
    "version": 3
   },
   "file_extension": ".py",
   "mimetype": "text/x-python",
   "name": "python",
   "nbconvert_exporter": "python",
   "pygments_lexer": "ipython3",
   "version": "3.9.13"
  }
 },
 "nbformat": 4,
 "nbformat_minor": 5
}
