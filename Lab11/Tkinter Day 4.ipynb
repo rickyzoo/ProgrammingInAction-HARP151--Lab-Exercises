{
 "cells": [
  {
   "cell_type": "code",
   "execution_count": 2,
   "id": "34ba3b9f",
   "metadata": {},
   "outputs": [],
   "source": [
    "from tkinter import *\n",
    "import tkinter as tk\n",
    "import random\n",
    "import requests\n",
    "import json"
   ]
  },
  {
   "cell_type": "markdown",
   "id": "b83d622f",
   "metadata": {},
   "source": [
    "## Trivia API GUI"
   ]
  },
  {
   "cell_type": "code",
   "execution_count": 19,
   "id": "62230065",
   "metadata": {},
   "outputs": [],
   "source": [
    "response = requests.get(\"https://the-trivia-api.com/api/questions?categories=film_and_tv&limit=10&region=US&difficulty=easy\").json()"
   ]
  },
  {
   "cell_type": "code",
   "execution_count": 20,
   "id": "0a61f90d",
   "metadata": {},
   "outputs": [
    {
     "data": {
      "text/plain": [
       "10"
      ]
     },
     "execution_count": 20,
     "metadata": {},
     "output_type": "execute_result"
    }
   ],
   "source": [
    "len(response)"
   ]
  },
  {
   "cell_type": "code",
   "execution_count": 21,
   "id": "3a57f1a8",
   "metadata": {},
   "outputs": [],
   "source": [
    "question_data = response[0]"
   ]
  },
  {
   "cell_type": "code",
   "execution_count": 22,
   "id": "0450f88d",
   "metadata": {},
   "outputs": [
    {
     "data": {
      "text/plain": [
       "{'category': 'Film & TV',\n",
       " 'id': '62573fee9da29df7b05f73b7',\n",
       " 'correctAnswer': 'Toy Story',\n",
       " 'incorrectAnswers': [\"Pan's Labyrinth\", 'The Exorcist', 'Gandhi'],\n",
       " 'question': \"Name the movie that matches the following plot summary: 'A cowboy doll is threatened when a new spaceman figure supplants him as top toy.'\",\n",
       " 'tags': ['film', 'film_and_tv'],\n",
       " 'type': 'Multiple Choice',\n",
       " 'difficulty': 'easy',\n",
       " 'regions': [],\n",
       " 'isNiche': False}"
      ]
     },
     "execution_count": 22,
     "metadata": {},
     "output_type": "execute_result"
    }
   ],
   "source": [
    "question_data"
   ]
  },
  {
   "cell_type": "code",
   "execution_count": 4,
   "id": "ca37ed23",
   "metadata": {},
   "outputs": [],
   "source": [
    "question = question_data[\"question\"]\n",
    "correct_answer = question_data[\"correctAnswer\"]\n",
    "incorrect_answers = question_data[\"incorrectAnswers\"]\n",
    "answers = [correct_answer] + incorrect_answers\n",
    "random.shuffle(answers)"
   ]
  },
  {
   "cell_type": "code",
   "execution_count": 5,
   "id": "69f34568",
   "metadata": {},
   "outputs": [
    {
     "data": {
      "text/plain": [
       "['Hawkeye', 'Iron Man', 'Obadiah Stane', 'Spiderman']"
      ]
     },
     "execution_count": 5,
     "metadata": {},
     "output_type": "execute_result"
    }
   ],
   "source": [
    "answers"
   ]
  },
  {
   "cell_type": "code",
   "execution_count": null,
   "id": "8279d4fb",
   "metadata": {},
   "outputs": [],
   "source": []
  },
  {
   "cell_type": "code",
   "execution_count": 24,
   "id": "5a2c4248",
   "metadata": {},
   "outputs": [],
   "source": [
    "# Set up the GUI\n",
    "root = tk.Tk()\n",
    "root.title(\"Trivia Game\")\n",
    "\n",
    "\n",
    "# Define a function to get a random question from the API and display it in the GUI\n",
    "def get_random_question():\n",
    "    correct_answers = 0 \n",
    "    questions_answered = 0\n",
    "    \n",
    "    # Clear any existing child widgets from the GUI\n",
    "    # https://www.tutorialspoint.com/getting-every-child-widget-of-a-tkinter-window\n",
    "    for widget in root.winfo_children():\n",
    "        widget.destroy()\n",
    "\n",
    "    # Get a random question from the API\n",
    "    response = requests.get(\"https://the-trivia-api.com/api/questions?categories=film_and_tv&limit=10&region=US&difficulty=easy\").json()\n",
    "    question_data = response[0]\n",
    "    question = question_data[\"question\"]\n",
    "    correct_answer = question_data[\"correctAnswer\"]\n",
    "    incorrect_answers = question_data[\"incorrectAnswers\"]\n",
    "    answers = [correct_answer] + incorrect_answers\n",
    "    random.shuffle(answers)\n",
    "\n",
    "    # Set up the question and answers display\n",
    "    question_label = tk.Label(root, text=question, font=(\"Arial\", 14))\n",
    "    question_label.pack(pady=20)\n",
    "    answer_var = tk.StringVar()\n",
    "\n",
    "    # Set up the radio buttons for the answers\n",
    "    for i, answer in enumerate(answers):\n",
    "        rb = tk.Radiobutton(root, text=answer, variable=answer_var, value=answer)\n",
    "        rb.pack()\n",
    "\n",
    "    # Define a function to check the user's answer and display feedback\n",
    "    def check_answer():\n",
    "        nonlocal correct_answers, questions_answered\n",
    "        \n",
    "        user_answer = answer_var.get()\n",
    "        if user_answer == correct_answer:\n",
    "            feedback_label.config(text=\"Correct!\", fg=\"green\")\n",
    "            correct_answers += 1\n",
    "            questions_answered += 1\n",
    "\n",
    "        else:\n",
    "            feedback_label.config(text=\"Incorrect!\", fg=\"red\")\n",
    "            questions_answered += 1\n",
    "\n",
    "        # Disable the radio buttons and submit button after checking the answer\n",
    "        # https://www.tutorialspoint.com/how-to-disable-enable-a-button-in-tkinter\n",
    "        for widget in root.winfo_children():\n",
    "            if isinstance(widget, tk.Radiobutton) or isinstance(widget, tk.Button):\n",
    "                widget.config(state=\"disabled\")\n",
    "\n",
    "        # Set up the \"Play Again\" button\n",
    "        play_again_button = tk.Button(root, text=\"Play Again\", command=get_random_question)\n",
    "        play_again_button.pack(pady=20)\n",
    "\n",
    "    # Set up the button to check the user's answer\n",
    "    submit_button = tk.Button(root, text=\"Submit\", command=check_answer)\n",
    "    submit_button.pack(pady=20)\n",
    "\n",
    "    # Set up a label for feedback\n",
    "    feedback_label = tk.Label(root, text=\"\", font=(\"Arial\", 14))\n",
    "    feedback_label.pack(pady=20)\n",
    "\n",
    "# Call the get_random_question() function to display the initial question\n",
    "get_random_question()\n",
    "\n",
    "root.mainloop()\n",
    "\n",
    "\n",
    "# I tried establishing nonlocal variables to keep track of the number of questions answered correctly\n",
    "# and number of total questions answered, and to display the ratio after all the questions were completed.\n",
    "# However, it seems like the way I am generating random questions doesn't take a question from a set number\n",
    "# of questions, so the game doesn't stop.\n",
    "\n",
    "# I was able to implement a \"play again\" button however."
   ]
  },
  {
   "cell_type": "code",
   "execution_count": null,
   "id": "e5e51190",
   "metadata": {},
   "outputs": [],
   "source": []
  },
  {
   "cell_type": "code",
   "execution_count": null,
   "id": "7aa0a6b7",
   "metadata": {},
   "outputs": [],
   "source": []
  },
  {
   "cell_type": "code",
   "execution_count": null,
   "id": "3cb39829",
   "metadata": {},
   "outputs": [],
   "source": []
  }
 ],
 "metadata": {
  "kernelspec": {
   "display_name": "Python 3 (ipykernel)",
   "language": "python",
   "name": "python3"
  },
  "language_info": {
   "codemirror_mode": {
    "name": "ipython",
    "version": 3
   },
   "file_extension": ".py",
   "mimetype": "text/x-python",
   "name": "python",
   "nbconvert_exporter": "python",
   "pygments_lexer": "ipython3",
   "version": "3.9.13"
  }
 },
 "nbformat": 4,
 "nbformat_minor": 5
}
